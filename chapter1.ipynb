{
 "cells": [
  {
   "cell_type": "markdown",
   "id": "c7fb3a72-2103-46f6-b3cc-9a4432e6c20c",
   "metadata": {},
   "source": [
    "# Chapter 1: Introduction to Algorithm Design\n",
    "## Finding Counterexamples\n",
    "### 1-1\n",
    "Show that $a + $b can be less than $\\\\min{(a, b)}$."
   ]
  },
  {
   "cell_type": "code",
   "execution_count": 1,
   "id": "043ed97a-bff1-4fce-bea4-1df74e9e9443",
   "metadata": {},
   "outputs": [
    {
     "data": {
      "text/plain": [
       "True"
      ]
     },
     "execution_count": 1,
     "metadata": {},
     "output_type": "execute_result"
    }
   ],
   "source": [
    "a = -1\n",
    "b = -1\n",
    "a + b < min(a, b)"
   ]
  },
  {
   "cell_type": "markdown",
   "id": "9280bc65-28c4-4e04-a313-2bed20f194dd",
   "metadata": {},
   "source": [
    "### 1-2\n",
    "Show that $a × $b can be less than $\\\\min{(a, b)}$."
   ]
  },
  {
   "cell_type": "code",
   "execution_count": 2,
   "id": "e842ce3b-1a02-4dad-8e6b-f09a74e16b0e",
   "metadata": {},
   "outputs": [
    {
     "data": {
      "text/plain": [
       "True"
      ]
     },
     "execution_count": 2,
     "metadata": {},
     "output_type": "execute_result"
    }
   ],
   "source": [
    "a = -1\n",
    "b = 2\n",
    "a * b < min(a, b)"
   ]
  },
  {
   "cell_type": "markdown",
   "id": "8ce60495-26c8-4483-9fbc-6912a8f38ab4",
   "metadata": {},
   "source": [
    "### 1-3\n",
    "Design/draw a road network with two points $a$ and $b$ such that the fastest route between $a$ and $b$ is not the shortest route."
   ]
  },
  {
   "cell_type": "raw",
   "id": "0b819eed-f422-4552-b514-a6f9d6598f15",
   "metadata": {},
   "source": [
    "  a____________b  \n",
    "  |            |  \n",
    "  |____________|\n"
   ]
  },
  {
   "cell_type": "markdown",
   "id": "95682371-1498-4908-a32a-71084efce428",
   "metadata": {},
   "source": [
    "Let's assume the shortest route between $a$ and $b$ is through a bridge, but is stays closed from time to time. When the bridge is closed the fastest route is the other one because we don't have to wait for the bridge to open."
   ]
  },
  {
   "cell_type": "markdown",
   "id": "3ad67fa5-8500-4591-b160-8a2d71e15957",
   "metadata": {},
   "source": [
    "### 1-4\n",
    "Design/draw a road network with two points $a$ and $b$ such that the shortest route between $a$ and $b$ is not the route with the fewest turns.\n"
   ]
  },
  {
   "cell_type": "raw",
   "id": "c8febc57-74a9-4f9d-94ec-1a739eddebb3",
   "metadata": {},
   "source": [
    "    _________\n",
    "    |       |\n",
    "    |       |\n",
    "    |       |\n",
    "    |       |\n",
    "    |       |\n",
    "    |       |\n",
    "    |       |\n",
    "    |       |\n",
    "  a_|       |________b  \n",
    "  |   __    __   __  |\n",
    "  |__|  |__|  |_|  |_|"
   ]
  },
  {
   "cell_type": "markdown",
   "id": "adbdb762-9be3-4e36-b504-f6e65eb00fd5",
   "metadata": {},
   "source": [
    "### 1-5\n",
    "The *knapsack problem* is as follows: given a set of integers $S = \\{s_1, s_2, . . . , s_n\\}$, and a target number $T$ , find a subset of $S$ that adds up exactly to $T$ . For example, there exists a subset within $S = \\{1, 2, 5, 9, 10\\}$ that adds up to $T = 22$ but not $T = 23$.\n",
    "\n",
    "Find counterexamples to each of the following algorithms for the knapsack problem. That is, give an $S$ and $T$ where the algorithm does not find a solution that leaves the knapsack completely full, even though a full-knapsack solution exists.\n",
    "1. Put the elements of $S$ in the knapsack in left to right order if they fit, that is, the first-fit algorithm\n",
    ">$T = 2$,  \n",
    ">$S = \\{1, 2\\}$\n",
    "2. Put the elements of $S$ in the knapsack from smallest to largest, that is, the best-fit algorithm.\n",
    ">$T = 2$,  \n",
    ">$S = \\{1, 2\\}$\n",
    "3. Put the elements of $S$ in the knapsack from largest to smallest.\n",
    ">$T = 5$,  \n",
    ">$S = \\{2, 3, 4\\}$"
   ]
  },
  {
   "cell_type": "markdown",
   "id": "2247c5e3-fcda-418d-b93f-08470c181886",
   "metadata": {},
   "source": [
    "### 1-6\n",
    "The *set cover* problem is as follows: given a set $S$ of subsets $S_1, . . . , S_m$ of the universal set $U = \\{1, ..., n\\}$, find the smallest subset of subsets $T ⊆ S$ such that $\\cup_{t_{i}\\in T}t_i = U$. For example, consider the subsets $S_1 = \\{1, 3, 5\\}$, $\\ S_2 = \\{2, 4\\}$, $\\ S_3 = \\{1, 4\\}$, and $\\ S_4 = \\{2, 5\\}$. The set cover of $\\{1, . . . , 5\\}$ would then be $S_1$ and $S_2$.\n",
    "\n",
    "Find a counterexample for the following algorithm: Select the largest subset for the cover, and then delete all its elements from the universal set. Repeat by adding the subset containing the largest number of uncovered elements until all are covered.\n",
    "\n",
    ">Let's say we have $U = \\{1, 2, 3, 4\\}$ and $\\ S_1 = \\{1, 2\\}$, $\\ S_2 = \\{3, 4\\}$, $\\ S_3 = \\{2, 3\\}$. The smallest subset of subsets to cover would be $S_1$ and $\\ S_2$. However consider the case when $S_3$ is selected first (all three subsets cover the same number of elements, namely 2). Then we would need all the 3 subsets to cover the universal set which is not the optimal solution. "
   ]
  },
  {
   "cell_type": "markdown",
   "id": "c609c47e-784a-4184-82db-360ded89eb91",
   "metadata": {},
   "source": [
    "### 1-7\n",
    "The *maximum clique* problem in a graph $G = (V, E)$ asks for the largest subset $C$ of vertices $V$ such that there is an edge in $E$ between every pair of vertices in $C$. Find a counterexample for the following algorithm: Sort the vertices of $G$ from highest to lowest degree. Considering the vertices in order of degree, for each vertex add it to the clique if it is a neighbor of all vertices currently in the clique. Repeat until all vertices have been considered."
   ]
  },
  {
   "cell_type": "raw",
   "id": "ef01df21-d176-46ef-9a4e-57d75c9669dd",
   "metadata": {},
   "source": [
    "    C                D\n",
    "    *________________*\n",
    "   / \\               /\\\n",
    "  /   \\             /  \\\n",
    "A*_____*B         E*    *F"
   ]
  },
  {
   "cell_type": "markdown",
   "id": "0e2f7ee8-17c6-453a-bb0e-0137f65d0be0",
   "metadata": {},
   "source": [
    "Optimal solution for the above example is $C = \\{A, B, C\\}$\n",
    "\n",
    "According to the greedy algorithm, after sorting the vertices we get $C$ and $D$ as highest degree with a value of 3. Notice that if we choose $D$ we can only ever add 1 more vertice to the set. Similarly choosing $C$ would still not get us the optimal solution as the next vertice to add with the highest order is $D$."
   ]
  },
  {
   "cell_type": "markdown",
   "id": "187f4da9-f10a-4cc5-b680-9c4fb5dd5399",
   "metadata": {},
   "source": [
    "___"
   ]
  },
  {
   "cell_type": "markdown",
   "id": "1f7c5695-4314-4648-9179-e9764221b51d",
   "metadata": {},
   "source": [
    "## Proofs of Correctness"
   ]
  },
  {
   "cell_type": "markdown",
   "id": "bdb7a820-dbda-4625-9621-cc299da67dbb",
   "metadata": {},
   "source": [
    "### 1-8\n",
    "Prove the correctness of the following recursive algorithm to multiply two natural numbers, for all integer constants c ≥ 2."
   ]
  },
  {
   "cell_type": "code",
   "execution_count": 3,
   "id": "57fd7b33-4410-419a-9a73-6b31da1471c8",
   "metadata": {},
   "outputs": [],
   "source": [
    "def multiply(y, z):\n",
    "    if z == 0:\n",
    "        return 0\n",
    "    else:\n",
    "        return multiply(c*y, z//c) + y * (z % c)"
   ]
  },
  {
   "cell_type": "markdown",
   "id": "5290f14b-8a98-4c1a-ac4a-f32484853bb3",
   "metadata": {},
   "source": [
    "The algorithm obviously works when $z = 0$. Let's assume $multiply(y, z)$ is $y*z$ for any $z < k$.  \n",
    "To prove $multiply(y, k)$ is equal to $y * k$. First break down $k$ to $k = r*c+s$ where $r>=0$ and $s$ is in $\\{0,1,...,c-1\\}$  \n",
    "Then $\\lfloor k/c\\rfloor = r$ and $k \\mod c = s$ and $r < k$ since $c>=2$  \n",
    "Therefore $multiply(y, k) = multiply(c*y, r) + y * s = c*y*r + y*s = y(c*s + r) = y*k$\n"
   ]
  },
  {
   "cell_type": "markdown",
   "id": "d61b8820-c17a-42f8-8f9f-69d4fb118f13",
   "metadata": {},
   "source": [
    "## Induction"
   ]
  },
  {
   "cell_type": "markdown",
   "id": "019d52a1-1071-4af6-b2de-a19a9d51b028",
   "metadata": {},
   "source": [
    "### 1-19\n",
    "Prove by induction that a tree with n vertices has exactly $n − 1$ edges"
   ]
  },
  {
   "cell_type": "markdown",
   "id": "7179264f-9a93-47e4-9da1-da3bfe89bd72",
   "metadata": {},
   "source": [
    "In graph theory, a tree is an undirected graph in which any two vertices are connected by exactly one path, or equivalently a connected acyclic undirected graph.  \n",
    "\n",
    "Base case covers a tree with exactly 1 vertex. Let'see also for 2 and 3 vertices."
   ]
  },
  {
   "cell_type": "raw",
   "id": "f13a95db-1c50-4b4b-aa6b-a5fd15d09459",
   "metadata": {},
   "source": [
    "tree with 1 vertex:         tree with 2 vertices:         tree with 3 vertices:\n",
    "\n",
    "                                      *                             *\n",
    "          *                          /                             /  \\\n",
    "                                    /                             /    \\\n",
    "                                   *                             *      *"
   ]
  },
  {
   "cell_type": "markdown",
   "id": "5e8c7db9-3845-4220-af7a-c60f4145857a",
   "metadata": {},
   "source": [
    "From the sketches above it is obvious that the statement is true for $n <=3$.\n",
    "For $n=1$ we have $n-1=0$ edge and so on.  \n",
    "Now let's assume that a tree $T$ with $m$ node has $m-1$ edges for $1<=m<n$  \n",
    "To construct a new tree $T'$ from $T$ we have to add a new vertex and connect it to one of the leaf nodes in $T$. By the definition above the new connection must be made with a (new) single edge.  \n",
    "Therefore the number of vertices are $m + 1 = n$ and the number of edges are $(m-1)+1 = m = n-1$ which proves the statement."
   ]
  },
  {
   "cell_type": "markdown",
   "id": "49996716-c78a-40d7-a00e-8bdc0ad5de0f",
   "metadata": {},
   "source": [
    "## Estimation"
   ]
  },
  {
   "cell_type": "markdown",
   "id": "eca77371-bcbc-4071-911b-fba87bf7287d",
   "metadata": {},
   "source": [
    "### 1-21\n",
    "Do all the books you own total at least one million pages? How many total\n",
    "pages are stored in your school library?"
   ]
  },
  {
   "cell_type": "markdown",
   "id": "d931ec1b-65f3-43d1-813e-0df44b3a5619",
   "metadata": {},
   "source": [
    "I don't own too much books even if I count the ones in digital formats. I assume the books have the average length of 300-500 pages. Even if I count with 1000 pages per book I would have to have 1000 of them to reach the 1 million page count.  \n",
    "For the other question, since I finished university I don't really go into libraries. If I consider my old local library my guess would the the total pages are indeed in the range of millions. With 30+ shelves and many other books stored in a seperate storage the following math checks out: $(30\\ shelves * 100\\ books + 3000\\ books\\ in\\ storage) * 500\\ pages =3,000,000\\ pages$"
   ]
  },
  {
   "cell_type": "markdown",
   "id": "33e149c3-31e4-471c-b2ed-3f6dbcc76b56",
   "metadata": {},
   "source": [
    "### 1-22\n",
    "How many words are there in this textbook?"
   ]
  },
  {
   "cell_type": "markdown",
   "id": "5e197297-5f26-449a-a959-93d77a3129eb",
   "metadata": {},
   "source": [
    "\n",
    "I have the book in digital format with a total of $800$ pages. If I count the words in this page with the exercises I get around $300$ words. The product gives $800*300=240,000$ words however there are few pages with a short amount of text and many diagrams so my final guess is $230,000$."
   ]
  },
  {
   "cell_type": "markdown",
   "id": "697a2020-0cef-4809-bc61-db653659fc7a",
   "metadata": {},
   "source": [
    "### 1-24\n",
    "Estimate how many cities and towns there are in the United States."
   ]
  },
  {
   "cell_type": "markdown",
   "id": "2f5c5993-46e9-48fd-9069-739d5dfb41bd",
   "metadata": {},
   "source": [
    "Unfortunately I'm not that familiar with the US but let my try the question with my native country, Hungary. Here we have 19 counties which are roughly the same size with similar number of towns (there is no distinction between city and town in Hungary ). Let's assume each county has around 15-20 towns than the total number would be between $15*19=285$ and $20*19=380$. "
   ]
  }
 ],
 "metadata": {
  "kernelspec": {
   "display_name": "Python 3 (ipykernel)",
   "language": "python",
   "name": "python3"
  },
  "language_info": {
   "codemirror_mode": {
    "name": "ipython",
    "version": 3
   },
   "file_extension": ".py",
   "mimetype": "text/x-python",
   "name": "python",
   "nbconvert_exporter": "python",
   "pygments_lexer": "ipython3",
   "version": "3.11.5"
  }
 },
 "nbformat": 4,
 "nbformat_minor": 5
}
