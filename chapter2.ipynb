{
 "cells": [
  {
   "cell_type": "markdown",
   "id": "1d80a482-6568-4006-b9bf-16866e59f624",
   "metadata": {},
   "source": [
    "# Chapter 2: Algorithm Analysis"
   ]
  },
  {
   "cell_type": "markdown",
   "id": "d5221be2-cc7e-4f79-81b2-59efbc14a5bc",
   "metadata": {},
   "source": [
    "## Big Oh\n",
    "## 2-8\n",
    "1. Is $2^{n+1} = O(2^n)$?\n",
    "> Yes, it is. $2^{n+1} = 2\\cdot 2^n$, essentially we are just multiplying with a constant.\n",
    "2. Is $2^{2n} = O(2^n)$?\n",
    "> No. By rewriting $2^{n+1} = 2^{2^{n}} = 4^n$ and it is clear that $4^n >> 2^n$"
   ]
  },
  {
   "cell_type": "markdown",
   "id": "f5b0a2e6-f02e-4c82-b2c9-5c632678476c",
   "metadata": {},
   "source": [
    "### 2-9\n",
    "For each of the following pairs of functions, $f(n)$ is in $O(g(n))$, $\\ \\Omega(g(n))$, or\n",
    "$\\Theta(g(n))$. Determine which relationships are correct and briefly explain why.\n",
    "1. $f(n) = \\log{} n^2$; $\\ g(n) = \\log{} n + 5$\n",
    "> $f(n)$ is $\\Theta(g(n))$, it is easy to see after $f(n) = \\log{} n^2 = \\log{} n + \\log{} n$\n",
    "2. $f(n) = \\sqrt{n}$; $\\ g(n) = \\log{} n^2$\n",
    "> $f(n)$ is $\\Omega(g(n))$, since $\\log{} n^2 = \\log{} n + \\log{} n$ and $\\sqrt{n} \\gt\\gt \\log{n}$\n",
    "3. $f(n) = \\log^2{} n$; $\\ g(n) = \\log{}n$\n",
    "> $f(n)$ is $\\Omega(g(n))$, since $\\log^2{} n = \\log{} n * \\log{} n$\n",
    "4. $f(n) = n$; $\\ g(n) = \\log^2{} n$\n",
    "> $f(n)$ is $\\Omega(g(n))$, by definition $n>>\\log^2{} n$\n",
    "5. $f(n) = n\\log{}n + n$; $\\ g(n) = \\log{} n$\n",
    "> $f(n)$ is $\\Omega(g(n))$, since $n\\log{}n + n = \\Theta(n\\log{}n)$ and $\\ n \\log{}n >> \\log{} n$\n",
    "6. $f(n) = 10$; $\\ g(n) = \\log{}10$\n",
    "> $f(n)$ is $\\Theta(g(n))$ since both of them are constants\n",
    "7. $f(n) = 2^n$; $\\ g(n) = 10n^2$\n",
    "> $f(n)$ is $\\Omega(g(n))$, since $2^n >> n^2$\n",
    "8. $f(n) = 2^n$; $\\ g(n) = 3^n$\n",
    "> $f(n)$ is $O(g(n))$ since $3^n >> 2^n$"
   ]
  },
  {
   "cell_type": "markdown",
   "id": "90cecfaa-1820-4eb6-b867-fbc5851227bd",
   "metadata": {},
   "source": [
    "### 2-26\n",
    "List the functions below from the lowest to the highest order. If any two or\n",
    "more are of the same order, indicate which.  \n",
    "\n",
    "1. $\\frac{1}{3}^n$\n",
    "2. $6$\n",
    "3. $\\log{\\log{}n}$\n",
    "4. $\\log{}n$, $\\ \\ln{}n$\n",
    "5. $(\\log{}n)^2$\n",
    "6. $n^\\frac{1}{3} + \\log{}n$\n",
    "7. $\\sqrt{n}$\n",
    "8. $\\frac{n}{\\log{}n}$\n",
    "9. $n$\n",
    "10. $n\\log{}n$\n",
    "11. $n^2 + \\log{}n$, $\\ n^2$\n",
    "12. $n^3$\n",
    "13. $n − n^3 + 7n^5$\n",
    "14. $\\frac{3}{2}^n$\n",
    "15. $2^n$\n",
    "16. $n!$"
   ]
  },
  {
   "cell_type": "markdown",
   "id": "1c7c98bb-01f5-415f-aa2a-4221db3cb876",
   "metadata": {},
   "source": [
    "### 2-27\n",
    "Find two functions $f(n)$ and $g(n)$ that satisfy the following relationship. If\n",
    "no such $f$ and $g$ exist, write “None.”"
   ]
  },
  {
   "cell_type": "markdown",
   "id": "d556f73a-6754-469c-bc07-35bb89addc76",
   "metadata": {},
   "source": [
    "1. $f(n) = o(g(n))$ and $f(n) \\neq \\Theta(g(n))$\n",
    "> $f(n) = n$  \n",
    "> $g(n) = n^2$\n",
    "2. $f (n) = \\Theta(g(n))$ and $f(n) = o(g(n))$\n",
    "> None\n",
    "3. $f (n) = \\Theta(g(n))$ and $f(n) \\neq O(g(n))$\n",
    "> None\n",
    "4. $f (n) = \\Omega(g(n))$ and $f(n) \\neq O(g(n))$\n",
    "> $f(n) = n^2$  \n",
    "> $g(n) = n$"
   ]
  },
  {
   "cell_type": "markdown",
   "id": "9bf76fd3-e400-4e05-b340-bd8917929003",
   "metadata": {},
   "source": [
    "### 2-28\n",
    "True or False?\n",
    "1. $2n^2 + 1 = O(n^2)$\n",
    "> True\n",
    "2. $\\sqrt{n} = O(\\log{} n)$\n",
    "> False\n",
    "3. $\\log{} n = O(\\sqrt{n})$\n",
    "> True\n",
    "4. $n^2(1 + \\sqrt{n}) = O(n^2 \\log{}n)$\n",
    "> False\n",
    "5. $3n^2 + \\sqrt{n} = O(n^2)$\n",
    "> True\n",
    "6. $\\sqrt{n} \\log{} n = O(n)$\n",
    "> True\n",
    "7. $\\log{}n = O(n^{−\\frac{1}{2}})$\n",
    "> False"
   ]
  },
  {
   "cell_type": "markdown",
   "id": "ea4ea7f8-a258-476b-9547-f3491a89bce5",
   "metadata": {},
   "source": [
    "### 2-29\n",
    "For each of the following pairs of functions $f(n)$ and $g(n)$, state whether\n",
    "$f(n) = O(g(n))$, $\\ f(n) = \\Omega(g(n))$, $\\ f(n) = \\Theta(g(n))$, or none of the above.\n",
    "1. $f(n) = n^2 + 3n + 4$, $\\ g(n) = 6n + 7$\n",
    ">  $f(n) = \\Omega(g(n))$\n",
    "2. $f(n) = n\\sqrt{n}$, $\\ g(n) = n^2 − n$\n",
    ">  $f(n) = O(g(n))$\n",
    "3. $f(n) = 2^n − n^2$, $\\ g(n) = n^4 + n^2$\n",
    ">  $f(n) = \\Omega(g(n))$"
   ]
  },
  {
   "cell_type": "markdown",
   "id": "2af270cc-602a-4cdf-8a14-6ccd515a3549",
   "metadata": {},
   "source": [
    "### 2-30\n",
    "For each of these questions, answer *yes* or *no* and briefly explain your answer.\n",
    "1. If an algorithm takes $O(n^2)$ worst-case time, is it possible that it takes $O(n)$\n",
    "on some inputs?\n",
    "> Yes, since $O(n^2)$ is the worst case. Depending on the algorithm and the instance of the problem it is possible to complete even in $O(1)$ time. (E.g. when the item we are searching for is the first one in a list)\n",
    "2. If an algorithm takes $O(n^2)$ worst-case time, is it possible that it takes $O(n)$\n",
    "on all inputs?\n",
    "> Yes since $O(n^2)$ is an upper bound, but not necessarily the tightest upper bound. E.g. we can also say it is $O(n!)$ and it is still true but also less useful.\n",
    "3. If an algorithm takes $\\Theta(n^2)$ worst-case time, is it possible that it takes $O(n)$\n",
    "on some inputs?\n",
    "> Yes, it is the same reasoning as for the first question. $\\Theta(n^2)$ is the worst and the best case can be considerably better.\n",
    "4. If an algorithm takes $\\Theta(n^2)$ worst-case time, is it possible that it takes $O(n)$\n",
    "on all inputs?\n",
    "> No, all inputs should cover the worst case scenario too. Since $\\Theta(n^2)$ is a tight bound (implying $\\Omega(n^2)$ and $O(n^2)$) it is not possible to do any better.\n",
    "5. Is the function $f(n) = \\Theta(n^2)$, where $f(n) = 100n^2$ for even $n$ and $f(n) =\n",
    "20n^2 − n \\log_{2} n$ for odd $n$?\n",
    "> Yes, since both the odd and even cases are $\\Theta(n^2)$. $\\ 100n^2 = \\Theta(n^2)$ and $\\ 20n^2 − n \\log_{2} n = \\Theta(n^2)$."
   ]
  },
  {
   "cell_type": "markdown",
   "id": "f2efee56-0945-47b0-848c-c0818a1ffa19",
   "metadata": {},
   "source": [
    "### 2-30\n",
    "For each of the following, answer *yes*, *no*, or *can’t tell*. Explain your reasoning.\n",
    "1. Is $3^n = O(2^n)$?\n",
    "> No, $O(2^n)$ is not an upper band to $3^n$ no matter the constant I would use.\n",
    "2. Is $\\log{}3^n = O(\\log{}2^n)$?\n",
    "> Yes. $O(\\log_{2}2^n) = O(n)$ and $\\ O(\\log_{3}3^n) = O(n)$ and in case of logarithms the base has no real impact on the growth rate.\n",
    "3. Is $3^n = \\Omega(2^n)$?\n",
    "> Yes, since it is the exact opposite of the first question I answered.\n",
    "4. Is $\\log{}3^n = \\Omega(\\log{}2^n)$?\n",
    "> Yes, see my reasonings for the second question. Additionally it is $\\log{}3^n = \\Theta(\\log{}2^n)$ since it is both the lower and upper bound."
   ]
  }
 ],
 "metadata": {
  "kernelspec": {
   "display_name": "Python 3 (ipykernel)",
   "language": "python",
   "name": "python3"
  },
  "language_info": {
   "codemirror_mode": {
    "name": "ipython",
    "version": 3
   },
   "file_extension": ".py",
   "mimetype": "text/x-python",
   "name": "python",
   "nbconvert_exporter": "python",
   "pygments_lexer": "ipython3",
   "version": "3.11.5"
  }
 },
 "nbformat": 4,
 "nbformat_minor": 5
}
