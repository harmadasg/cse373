{
 "cells": [
  {
   "cell_type": "markdown",
   "id": "a8921641-d51a-4486-a913-87fc81d036ca",
   "metadata": {},
   "source": [
    "# Chapter 4: Sorting"
   ]
  },
  {
   "cell_type": "markdown",
   "id": "50f9b13d-65b3-4386-abc7-c8673e5dadb5",
   "metadata": {},
   "source": [
    "## Applications of Sorting: Numbers"
   ]
  },
  {
   "cell_type": "markdown",
   "id": "23591a06-dc45-4664-bdad-18a5d703c407",
   "metadata": {},
   "source": [
    "### 4-1\n",
    "The Grinch is given the job of partitioning $2n$ players into two teams of $n$ players each. Each player has a numerical rating that measures how good he or she is at the game. The Grinch seeks to divide the players as *unfairly* as possible, so as to create the biggest possible talent imbalance between the teams. Show how the Grinch can do the job in $O(n\\log{}n)$ time."
   ]
  },
  {
   "cell_type": "code",
   "execution_count": 1,
   "id": "b0db5e87-ea24-4c6b-bb48-6ada8b4126ca",
   "metadata": {
    "tags": []
   },
   "outputs": [],
   "source": [
    "def grinch_sort(players):\n",
    "    # it takes nlogn time to sort the players\n",
    "    players.sort()\n",
    "\n",
    "    # most unfair partition is to arrange the players in sorted order based on the ratings and assign the first and second halves to different teams\n",
    "    middle_index = len(players) // 2\n",
    "    team_a = players[:middle_index]\n",
    "    team_b = players[middle_index:]\n",
    "\n",
    "    return (team_a, team_b)"
   ]
  },
  {
   "cell_type": "markdown",
   "id": "318ada8d-84eb-40a5-8aa8-08dd2b465830",
   "metadata": {},
   "source": [
    "How do we know that this is truly the biggest imbalance? If we go with proof by contradiction then there must be a different partitioning which creates bigger imbalance. The rate of the imbalance is the difference between the sum of talent ratings in the two teams. Starting with our solution notice that if we exchange any 2 players from the teams, then Team B will have less total rating and Team A will have more total rating (since the players are first assembled by sorting by skill ratings). This way the difference between the two teams gets smaller which contradicts with our assumption. Even in the edge case when the two players exchanged have the same rating the the optimal solution produced by my algorithm still holds."
   ]
  },
  {
   "cell_type": "markdown",
   "id": "e67afd66-cf8c-45a4-8472-795c0d39f014",
   "metadata": {},
   "source": [
    "### 4-2\n",
    "For each of the following problems, give an algorithm that finds the desired numbers within the given amount of time. To keep your answers brief, feel free to use algorithms from the book as subroutines. For the example, $S = \\{6, 13, 19, 3, 8\\},\\  19 − 3$ maximizes the difference, while $8 − 6\\ $ minimizes the difference."
   ]
  },
  {
   "cell_type": "markdown",
   "id": "95579728-9ca4-4571-8f23-ba842847c8a1",
   "metadata": {},
   "source": [
    "1. Let $S$ be an *unsorted* array of $n$ integers. Give an algorithm that finds the pair $x, y \\in S$ that *maximizes* $|x−y|$. Your algorithm must run in $O(n)$ worst-case time."
   ]
  },
  {
   "cell_type": "code",
   "execution_count": 2,
   "id": "c6cffd42-b53c-4b15-9e97-4915fc8b087c",
   "metadata": {},
   "outputs": [],
   "source": [
    "def find_pair_1(numbers):\n",
    "    if not numbers:\n",
    "        return None\n",
    "\n",
    "    min_element = max_element = numbers[0]\n",
    "\n",
    "    for n in numbers:\n",
    "        if n < min_element:\n",
    "            min_element = n\n",
    "            continue\n",
    "        if n > max_element:\n",
    "            max_element = n\n",
    "            \n",
    "    return max_element - min_element"
   ]
  },
  {
   "cell_type": "markdown",
   "id": "5558f2bb-da12-4226-a25f-387ba7a13900",
   "metadata": {},
   "source": [
    "2. Let $S$ be a *sorted* array of $n$ integers. Give an algorithm that finds the pair $x, y \\in S$ that *maximizes* $|x−y|$. Your algorithm must run in $O(1)$ worst-case time."
   ]
  },
  {
   "cell_type": "code",
   "execution_count": 3,
   "id": "1452ffaf-7653-41ba-b50f-da66b9a5d50a",
   "metadata": {},
   "outputs": [],
   "source": [
    "def find_pair_2(numbers):\n",
    "    if not numbers:\n",
    "        return None\n",
    "            \n",
    "    return numbers[len(numbers) - 1] - numbers[0]"
   ]
  },
  {
   "cell_type": "markdown",
   "id": "6b3adf24-665d-4e2d-a8d3-66f5d47efbde",
   "metadata": {},
   "source": [
    "3. Let $S$ be an *unsorted* array of $n$ integers. Give an algorithm that finds the pair $x, y \\in S$ that *minimizes* $|x − y|$, for $x \\neq y$. Your algorithm must run in $O(n \\log{} n)$ worst-case time."
   ]
  },
  {
   "cell_type": "code",
   "execution_count": 4,
   "id": "06c6ae15-1c9f-449f-bb86-82dab7efe5a6",
   "metadata": {},
   "outputs": [],
   "source": [
    "def find_pair_3(numbers):\n",
    "    if len(numbers) < 2:\n",
    "        return None\n",
    "\n",
    "    # sorting takes O(n logn) time\n",
    "    numbers.sort()\n",
    "    min_dist = float('inf')\n",
    "\n",
    "    for i in range(1, len(numbers)):\n",
    "        current_dist = numbers[i] - numbers[i - 1]\n",
    "        if current_dist != 0 and current_dist < min_dist:\n",
    "            min_dist = current_dist\n",
    "\n",
    "    return min_dist"
   ]
  },
  {
   "cell_type": "markdown",
   "id": "f3af8f11-a008-4791-ac3f-8b9dfca1d9b7",
   "metadata": {},
   "source": [
    "4. Let $S$ be an *sorted* array of $n$ integers. Give an algorithm that finds the pair $x, y \\in S$ that *minimizes* $|x − y|$, for $x \\neq y$. Your algorithm must run in $O(n)$ worst-case time."
   ]
  },
  {
   "cell_type": "code",
   "execution_count": 5,
   "id": "2f99d89d-2583-451d-863e-44894b0e8e23",
   "metadata": {},
   "outputs": [],
   "source": [
    "def find_pair_4(numbers):\n",
    "    # it is basically the same as the previous one but without sorting\n",
    "    if len(numbers) < 2:\n",
    "        return None\n",
    "\n",
    "    min_dist = float('inf')\n",
    "\n",
    "    for i in range(1, len(numbers)):\n",
    "        current_dist = numbers[i] - numbers[i - 1]\n",
    "        if current_dist != 0 and current_dist < min_dist:\n",
    "            min_dist = current_dist\n",
    "\n",
    "    return min_dist"
   ]
  },
  {
   "cell_type": "markdown",
   "id": "04a74d4c-4989-4d4a-9112-da8c34a49f7a",
   "metadata": {},
   "source": [
    "### 4-3\n",
    "Take a list of $2n$ real numbers as input. Design an $O(n \\log{} n)$ algorithm that partitions the numbers into $n$ pairs, with the property that the partition minimizes the maximum sum of a pair. For example, say we are given the numbers $(1,3,5,9)$. The possible partitions are $((1,3),(5,9))$, $((1,5),(3,9))$, and $((1,9),(3,5))$. The pair sums for these partitions are $(4,14)$, $(6,12)$, and $(10,8)$. Thus, the third partition has $10$ as its maximum sum, which is the minimum over the three partitions."
   ]
  },
  {
   "cell_type": "code",
   "execution_count": 6,
   "id": "236dc4bc-8e2c-4a6e-83be-ab00b378eb69",
   "metadata": {},
   "outputs": [],
   "source": [
    "def partition_with_min_max_sum_of_pairs(numbers):\n",
    "    pairs = []\n",
    "    numbers.sort()\n",
    "    size = len(numbers)\n",
    "    for i in range(size // 2):\n",
    "        pair_left = numbers[i]\n",
    "        pair_right = numbers[size - i - 1] \n",
    "        pairs.append((pair_left, pair_right))\n",
    "    return pairs"
   ]
  },
  {
   "cell_type": "markdown",
   "id": "331e3f5c-3139-48eb-8b1a-f464d1aab1c5",
   "metadata": {},
   "source": [
    "### 4-5\n",
    "The *mode* of a bag of numbers is the number that occurs most frequently in the set. The set $\\{4, 6, 2, 4, 3, 1\\}$ has a mode of $4$. Give an efficient and correct algorithm to compute the mode of a bag of $n$ numbers."
   ]
  },
  {
   "cell_type": "code",
   "execution_count": 7,
   "id": "ee254fdf-2b48-4a34-ab5d-3b75a0adb7f8",
   "metadata": {},
   "outputs": [],
   "source": [
    "def find_mode(numbers):\n",
    "    if not numbers:\n",
    "        return None\n",
    "\n",
    "    numbers.sort()\n",
    "    current_number = mode = numbers[0]\n",
    "    max_occurrences = 1\n",
    "    current_occurrences = 0 \n",
    "\n",
    "    for n in numbers:\n",
    "        if current_number != n:\n",
    "            current_number = n\n",
    "            current_occurrences = 0\n",
    "        current_occurrences += 1\n",
    "        if current_occurrences > max_occurrences:\n",
    "            max_occurrences = current_occurrences\n",
    "            mode = n\n",
    "\n",
    "    return mode"
   ]
  },
  {
   "cell_type": "markdown",
   "id": "68039adc-307b-4bd5-b103-e2139951b03a",
   "metadata": {},
   "source": [
    "### 4-6\n",
    "Given two sets $S1$ and $S2$ (each of size $n$), and a number $x$, describe an $O(n \\log{} n)$ algorithm for finding whether there exists a pair of elements, one from $S1$ and one from $S2$, that add up to $x$. (For partial credit, give a $\\Theta(n^2)$ algorithm for this problem.)"
   ]
  },
  {
   "cell_type": "code",
   "execution_count": 8,
   "id": "d86ed4f0-ed0c-4458-8be2-553e3d5b3e42",
   "metadata": {},
   "outputs": [],
   "source": [
    "def binary_search(sorted_array, x):\n",
    "    if not sorted_array:\n",
    "        return None\n",
    "\n",
    "    if len(sorted_array) == 1:\n",
    "        return x if x == sorted_array[0] else None\n",
    "\n",
    "    mid_index = len(sorted_array) // 2\n",
    "    return binary_search(sorted_array[:mid_index], x) if sorted_array[mid_index] > x \\\n",
    "        else binary_search(sorted_array[mid_index:], x)\n",
    "\n",
    "def find_pairs(s1, s2, x):\n",
    "    s1.sort()\n",
    "    s2.sort()\n",
    "\n",
    "    for n in s1:\n",
    "        pair_to_find = x - n\n",
    "        if binary_search(s2, pair_to_find) is not None:\n",
    "            return (n, pair_to_find)\n",
    "\n",
    "    return None"
   ]
  },
  {
   "cell_type": "markdown",
   "id": "c6b8cb87-3f74-497b-b918-736de8731328",
   "metadata": {
    "tags": []
   },
   "source": [
    "## Heaps"
   ]
  },
  {
   "cell_type": "markdown",
   "id": "708ce984-42a0-483d-8f99-9f76721985ce",
   "metadata": {},
   "source": [
    "### 4-17\n",
    "Devise an algorithm for finding the $k$ smallest elements of an unsorted set of $n$ integers in $O(n + k \\log{} n)$."
   ]
  },
  {
   "cell_type": "code",
   "execution_count": 9,
   "id": "ff74fc14-57f2-448d-80db-1c7154b8f857",
   "metadata": {
    "tags": []
   },
   "outputs": [
    {
     "data": {
      "text/plain": [
       "5"
      ]
     },
     "execution_count": 9,
     "metadata": {},
     "output_type": "execute_result"
    }
   ],
   "source": [
    "import heapq # use the standard library\n",
    "\n",
    "def find_k_smallest(li, k):\n",
    "    if li is None or k >= len(li):\n",
    "        raise Exception(\"Invalid input\")\n",
    "    \n",
    "    heapq.heapify(li) # convert the list to a heap in O(n) time\n",
    "    k_min = li[0]\n",
    "    for _ in range(k):\n",
    "        k_min = heapq.heappop(li) # continuously popping the min takes O(klogn) time\n",
    "    return k_min\n",
    "\n",
    "li = [5, 7, 9, 1, 3]\n",
    "find_k_smallest(li, 3)"
   ]
  },
  {
   "cell_type": "markdown",
   "id": "0a7f17ca-8d94-4bd6-867b-18df22c35836",
   "metadata": {
    "tags": []
   },
   "source": [
    "### 4-18\n",
    "Give an $O(n \\log{} k)$ -time algorithm that merges $k$ sorted lists with a total\n",
    "of $n$ elements into one sorted list. (Hint: use a heap to speed up the obvious\n",
    "$O(kn)$-time algorithm)."
   ]
  },
  {
   "cell_type": "code",
   "execution_count": 10,
   "id": "94d02dc1-bf53-419f-9516-ee78bf86548e",
   "metadata": {
    "tags": []
   },
   "outputs": [
    {
     "data": {
      "text/plain": [
       "[0, 1, 2, 4, 5, 6, 8, 9]"
      ]
     },
     "execution_count": 10,
     "metadata": {},
     "output_type": "execute_result"
    }
   ],
   "source": [
    "import heapq # use the standard library\n",
    "\n",
    "def merge_sorted_lists(lists, n):\n",
    "    if lists is None:\n",
    "        raise Exception(\"Invalid input\")\n",
    "        \n",
    "    mins = [] # store mins from the k list in a pq\n",
    "    merged_list = []\n",
    "    \n",
    "    for idx, x in enumerate(lists):\n",
    "        if len(x) == 0:\n",
    "            continue\n",
    "        element = (x.pop(0), idx) # this works because heapq sorts based on the first element\n",
    "        heapq.heappush(mins, element)\n",
    "\n",
    "    for i in range(n): # construct the merged list with n elements\n",
    "        num, list_index = heapq.heappop(mins)\n",
    "        merged_list.append(num)\n",
    "        \n",
    "        if len(lists[list_index]) != 0:\n",
    "            new_element = (lists[list_index].pop(0), list_index)\n",
    "            heapq.heappush(mins, new_element) # add new element to the pq in O(logk) time\n",
    "        \n",
    "    return merged_list\n",
    "\n",
    "\n",
    "li1 = [2, 4, 5, 6, 8]\n",
    "li2 = [0, 1, 9]\n",
    "\n",
    "merge_sorted_lists([li1, li2], 8)"
   ]
  },
  {
   "cell_type": "markdown",
   "id": "361282de-1a2c-46bf-b51b-77bed9f4161e",
   "metadata": {},
   "source": [
    "### 4-19\n",
    "You wish to store a set of $n$ numbers in either a max-heap or a sorted array.\n",
    "For each application below, state which data structure is better, or if it does not\n",
    "matter. Explain your answers."
   ]
  },
  {
   "cell_type": "markdown",
   "id": "96e33415-02bc-4165-af55-6d82f1c86340",
   "metadata": {
    "tags": []
   },
   "source": [
    "1. Find the maximum element quickly.\n",
    "> Both max-heap and sorted array provides $O(1)$ access to the maximum element\n",
    "2. Delete an element quickly.\n",
    "> Max-heap can delete an element in $O(\\log{} n)$ time due to the bubble-down mechanism\\\n",
    "> For sorted array it is $O(n)$ as remaining elements need to be moved in order to fill the gap after the removal\n",
    "3. Form the structure quickly.\n",
    "> Sorting takes $O(n \\log{} n)$ time\\\n",
    "> Heap can be constructed in $O(n)$ time.\n",
    "4. Find the minimum element quickly.\n",
    "> Sorted array provides $O(1)$ access to the minimum element\\\n",
    "> Max-heap is optimized for max elements, finding the min is only possible by scanning through the leaves of the tree in $O(n)$ time"
   ]
  },
  {
   "cell_type": "markdown",
   "id": "150bbb02-6118-457c-a103-6211abd05af1",
   "metadata": {},
   "source": [
    "### 4-20\n",
    "1. Give an efficient algorithm to find the second-largest key among $n$ keys.\n",
    "You can do better than $2n − 3$ comparisons."
   ]
  },
  {
   "cell_type": "code",
   "execution_count": 11,
   "id": "47f50214-66d7-4e53-81e8-f18f622e3706",
   "metadata": {
    "tags": []
   },
   "outputs": [],
   "source": [
    "class BinaryTreeNode:\n",
    "    def __init__(self, data, left=None, right=None):\n",
    "        self.data = data\n",
    "        self.left = left\n",
    "        self.right = right\n",
    "\n",
    "def build_max_tree(li):\n",
    "    \"\"\"\n",
    "    Builds a tree with leaves corresponding to list elements and parents as the respective max value\n",
    "    The root of the tree should contain the max value\n",
    "    \"\"\"\n",
    "    if li is None:\n",
    "        raise Exception(\"Wrong input\")\n",
    "    \n",
    "    if len(li) == 1:\n",
    "        return BinaryTreeNode(li.pop(0))\n",
    "    \n",
    "    middle_index = len(li) // 2\n",
    "    left = build_max_tree(li[:middle_index])\n",
    "    right = build_max_tree(li[middle_index:])\n",
    "    return BinaryTreeNode(\n",
    "        max(left.data, right.data),\n",
    "        left,\n",
    "        right\n",
    "    )\n",
    "\n",
    "def find_keys_compared_to(node):\n",
    "    \"\"\"\n",
    "    Find all the keys the given node data was compared against.\n",
    "    The second max should be the maximum element out of all these values.\n",
    "    \"\"\"    \n",
    "    max = node.data\n",
    "    ret = []\n",
    "    \n",
    "    while node.left is not None and node.right is not None:\n",
    "        if node.left.data == max:\n",
    "            ret.append(node.right.data)\n",
    "            node = node.left\n",
    "        else:\n",
    "            ret.append(node.left.data)\n",
    "            node = node.right\n",
    "        \n",
    "    return ret\n",
    "\n",
    "def get_second_max(li):\n",
    "    node = build_max_tree(li)\n",
    "    keys = find_keys_compared_to(node)\n",
    "    return max(keys)"
   ]
  },
  {
   "cell_type": "markdown",
   "id": "a074f20a-ebbe-4a3a-b23c-ba0d938af743",
   "metadata": {},
   "source": [
    "2. Then, give an efficient algorithm to find the third-largest key among $n$ keys.\n",
    "How many key comparisons does your algorithm do in the worst case? Must your\n",
    "algorithm determine which key is largest and second-largest in the process?"
   ]
  },
  {
   "cell_type": "code",
   "execution_count": 12,
   "id": "6e512eb3-de01-49ca-a5fe-935bb16a79a3",
   "metadata": {
    "tags": []
   },
   "outputs": [],
   "source": [
    "def get_third_max(li):\n",
    "    \"\"\"\n",
    "    First find all the keys the max data node was compared against.\n",
    "    Then find all the keys the second max data node was compared against.\n",
    "    The third max value should be the max value out of the two above list minus the second largest key.\n",
    "    \"\"\"  \n",
    "    node = build_max_tree(li)\n",
    "    max_value = node.data\n",
    "    keys_compared_to_largest = find_keys_compared_to(node)\n",
    "    second_largest = max(keys_compared_to_largest)\n",
    "    \n",
    "    # Find second largest key data node\n",
    "    while node.left is not None and node.right is not None:\n",
    "        if node.left.data == second_largest:\n",
    "            node = node.left\n",
    "            break\n",
    "        elif node.right.data == second_largest:\n",
    "            node = node.right\n",
    "            break\n",
    "        elif node.left.data == max_value:\n",
    "            node = node.left\n",
    "        else:\n",
    "            node = node.right\n",
    "            \n",
    "    keys_compared_to_second_largest = find_keys_compared_to(node)\n",
    "    combined_list = keys_compared_to_second_largest + keys_compared_to_largest\n",
    "    \n",
    "    combined_list.remove(second_largest)\n",
    "    return max(combined_list)"
   ]
  },
  {
   "cell_type": "markdown",
   "id": "8ba7e410-c49b-405c-a80c-cf9840df62e6",
   "metadata": {},
   "source": [
    "### 4-21\n",
    "Use the partitioning idea of quicksort to give an algorithm that finds the\n",
    "*median* element of an array of $n$ integers in expected $O(n)$ time. (Hint: must\n",
    "you look at both sides of the partition?)"
   ]
  },
  {
   "cell_type": "code",
   "execution_count": 13,
   "id": "68ba890a-69b0-4a56-b26f-203263c8ac81",
   "metadata": {
    "tags": []
   },
   "outputs": [
    {
     "data": {
      "text/plain": [
       "5000"
      ]
     },
     "execution_count": 13,
     "metadata": {},
     "output_type": "execute_result"
    }
   ],
   "source": [
    "import random\n",
    "\n",
    "def partition(array, low, high):\n",
    "\n",
    "    # choose the the pivot as random\n",
    "    pivot = random.randrange(low, high + 1)\n",
    "\n",
    "    # pointer for greater element\n",
    "    i = low - 1\n",
    "\n",
    "    # traverse through all elements\n",
    "    # compare each element with pivot\n",
    "    for j in range(low, high):\n",
    "        if array[j] <= pivot:\n",
    "\n",
    "            # If element smaller than pivot is found\n",
    "            # swap it with the greater element pointed by i\n",
    "            i = i + 1\n",
    "\n",
    "            # Swapping element at i with element at j\n",
    "            (array[i], array[j]) = (array[j], array[i])\n",
    "\n",
    "    # Swap the pivot element with the greater element specified by i\n",
    "    (array[i + 1], array[high]) = (array[high], array[i + 1])\n",
    "\n",
    "    # Return the position from where partition is done\n",
    "    return i + 1\n",
    "\n",
    "def find_median(array):\n",
    "    if array is None:\n",
    "        raise Exception(\"Wrong input\")\n",
    "    \n",
    "    start = 0\n",
    "    end = len(li) - 1\n",
    "    med_index = len(li) // 2\n",
    "\n",
    "    \n",
    "    while start < end:\n",
    "        pivot = partition(array, start, end)\n",
    "        # key idea, only recurse on one side to achieve O(n) running time\n",
    "        if pivot - med_index == 0:\n",
    "            break\n",
    "        elif pivot - med_index < 0:\n",
    "            start = pivot + 1\n",
    "        else:\n",
    "            end = pivot - 1\n",
    "\n",
    "    \n",
    "    return array[med_index]\n",
    "\n",
    "\n",
    "li = []\n",
    "for i in range(10000):\n",
    "    li.append(i)\n",
    "\n",
    "find_median(li)"
   ]
  },
  {
   "cell_type": "markdown",
   "id": "e75acf7b-5fa4-4acb-a8fe-4e8ff774738f",
   "metadata": {},
   "source": [
    "### 4-24\n",
    "Give an efficient algorithm to rearrange an array of $n$ keys so that all\n",
    "the negative keys precede all the non-negative keys. Your algorithm must be\n",
    "in-place, meaning you cannot allocate another array to temporarily hold the\n",
    "items. How fast is your algorithm?"
   ]
  },
  {
   "cell_type": "code",
   "execution_count": 14,
   "id": "07569330-99c5-4253-b802-3f14d91e5c6b",
   "metadata": {
    "tags": []
   },
   "outputs": [
    {
     "name": "stdout",
     "output_type": "stream",
     "text": [
      "[-38, 22, -1, 4, -25, -3, -18, 21, -16, 14]\n",
      "[-38, -16, -1, -18, -25, -3, 4, 21, 22, 14]\n"
     ]
    }
   ],
   "source": [
    "def do_special_rearrangement(arr):\n",
    "    # O(n) in-place rearrangement\n",
    "    \n",
    "    if arr is None:\n",
    "        raise Exception(\"Wrong input\")\n",
    "    \n",
    "    left = 0\n",
    "    right = len(arr) - 1\n",
    "    pivot = 0\n",
    "    \n",
    "    while left < right:\n",
    "        if arr[left] > pivot and arr[right] < pivot:\n",
    "            arr[left], arr[right] = arr[right], arr[left]\n",
    "            left += 1\n",
    "            right -= 1\n",
    "        elif arr[left] < pivot:\n",
    "            left += 1\n",
    "        elif arr[right] > pivot:\n",
    "            right -= 1\n",
    "            \n",
    "arr = []\n",
    "for i in range(10):\n",
    "    arr.append(random.randrange(-50, 50))\n",
    "print(arr)\n",
    "\n",
    "do_special_rearrangement(arr)\n",
    "print(arr)"
   ]
  },
  {
   "cell_type": "markdown",
   "id": "7420d49a-a2c9-46a9-b452-4951dbbc08d5",
   "metadata": {},
   "source": [
    "### 4-33\n",
    "Show that $n$ positive integers in the range 1 to $k$ can be sorted in $O(n \\log{} k)$\n",
    "time. The interesting case is when $k << n$."
   ]
  },
  {
   "cell_type": "code",
   "execution_count": 15,
   "id": "865b47a8-f1a0-483b-b756-def4132ecb13",
   "metadata": {},
   "outputs": [
    {
     "name": "stdout",
     "output_type": "stream",
     "text": [
      "Original array: [12, 4, 6, 8, 1, 16, 5, 9]\n",
      "Sorted array: [1, 4, 5, 6, 8, 9, 12, 16]\n"
     ]
    }
   ],
   "source": [
    "def quicksort_with_median_partition(arr, low, high, k_start, k_end):\n",
    "    \"\"\"\n",
    "    Quicksort that partitions the array using the median of the range [k_start, k_end] as a pivot.\n",
    "\n",
    "    Parameters:\n",
    "    - arr: List of integers to sort.\n",
    "    - low: Starting index of the current range.\n",
    "    - high: Ending index of the current range.\n",
    "    - k_start: Lower bound of the range [k_start, k_end].\n",
    "    - k_end: Upper bound of the range [k_start, k_end].\n",
    "\n",
    "    Returns:\n",
    "    - Sorted array (in-place).\n",
    "    \"\"\"\n",
    "    if low < high:\n",
    "        # Median of range\n",
    "        pivot = k_start + (k_end - k_start) // 2\n",
    "\n",
    "        # Partition the array around the pivot\n",
    "        partition_index = partition(arr, low, high, pivot)\n",
    "\n",
    "        # Recursively sort the two halves, updating k for the new ranges\n",
    "        quicksort_with_median_partition(arr, low, partition_index - 1, k_start, pivot)\n",
    "        quicksort_with_median_partition(arr, partition_index, high, pivot, k_end)\n",
    "\n",
    "\n",
    "def partition(arr, low, high, pivot):\n",
    "    \"\"\"\n",
    "    Partition the array around a given pivot value.\n",
    "\n",
    "    Parameters:\n",
    "    - arr: List of integers to partition.\n",
    "    - low: Starting index of the range to partition.\n",
    "    - high: Ending index of the range to partition.\n",
    "    - pivot: The pivot value for partitioning.\n",
    "\n",
    "    Returns:\n",
    "    - Index where the partition happens.\n",
    "    \"\"\"\n",
    "    i = low\n",
    "    for j in range(low, high + 1):\n",
    "        if arr[j] <= pivot:\n",
    "            arr[i], arr[j] = arr[j], arr[i]\n",
    "            i += 1\n",
    "    return i\n",
    "\n",
    "\n",
    "arr = [12, 4, 6, 8, 1, 16, 5, 9]\n",
    "k = 16\n",
    "print(\"Original array:\", arr)\n",
    "quicksort_with_median_partition(arr, 0, len(arr) - 1, 1, k)\n",
    "print(\"Sorted array:\", arr)\n"
   ]
  },
  {
   "cell_type": "markdown",
   "id": "961a6844-1121-436b-bb78-a832cdebf1d6",
   "metadata": {},
   "source": [
    "### 4-35\n",
    "Let $A[1..n]$ be an array such that the first $n−\\sqrt{n}$ elements are already sorted\n",
    "(though we know nothing about the remaining elements). Give an algorithm\n",
    "that sorts $A$ in substantially better than $O(n\\log{}n)$ steps."
   ]
  },
  {
   "cell_type": "markdown",
   "id": "2c0c4710-7856-4ed2-ba74-d68f2afe6209",
   "metadata": {},
   "source": [
    "This can be done in $O(n)$ time. Basically we have $\\sqrt{n}$ unsorted elements. The steps to solve the problem are the following:\n",
    "* Sort the remaining $\\sqrt{n}$ unsorted elements. This can be done at best $O(\\sqrt{n \\log{} n} )$ time\n",
    "* Merge the two sorted subsets together in $O(n)$ time\n",
    "* The total time complexity is $O(\\sqrt{n \\log{} n} + n )$ where the dominant term is $O(n)$\n",
    "\n",
    "To make the solution more obvious we can even use a $O(n^2 )$ sorting algorithm to do the work on the unsorted elements. This takes $O(\\sqrt{ n^2} )$ = $O(n )$ time so the total complexity is $O(n + n )$ which is again simplified to $O(n )$. "
   ]
  }
 ],
 "metadata": {
  "kernelspec": {
   "display_name": "python-minimal kernel",
   "language": "python",
   "name": "python-minimal"
  },
  "language_info": {
   "codemirror_mode": {
    "name": "ipython",
    "version": 3
   },
   "file_extension": ".py",
   "mimetype": "text/x-python",
   "name": "python",
   "nbconvert_exporter": "python",
   "pygments_lexer": "ipython3",
   "version": "3.12.7"
  }
 },
 "nbformat": 4,
 "nbformat_minor": 5
}
